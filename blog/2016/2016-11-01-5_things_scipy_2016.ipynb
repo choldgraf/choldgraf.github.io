{
 "cells": [
  {
   "cell_type": "markdown",
   "metadata": {},
   "source": [
    "I've finally decompressed after my first go-around with Scipy. For those who haven't heard of this conference before, Scipy is an annual meeting where members of scientific community get together to discuss their love of Python, scientific programming, and open science. It spans both academics and people from industry, making it a unique place in terms of how software interfaces with scientific research. (if you're interested the full set of Scipy conferences, [check out here](http://conference.scipy.org/index.html).\n",
    "\n",
    "It was an eye-opening experience that I learned a lot from, so here's a quick recap of some things that I learned during my first rodeo.\n",
    "\n",
    "# 1. Scientific conferences can be fun\n",
    "I know I know, everybody has fun at conferences because they're kind of like mini-vacations. But this is one of the only conferences I've been to where people seemed legitimately excited to be *at the conference itself*. Austin is a really cool city, but rooms were packed full of people whether it was morning or evening. Everybody was enthusiastic about one another's work, and it was a rare feeling of community over competitiveness.\n",
    "\n",
    "# 2. Open science feels great\n",
    "Speaking of competition...you know that feeling when you're walking around a conference, and you're kind of terrified that you'll run into somebody else's poster that covers the same thing you're studying? That feeling doesn't exist at scipy. In fact, discovering that somebody has already done what you were working on is *great*. It means that you can start building off of their hard work, instead of laying a bunch of groundwork yourself. That's how science is supposed to work, and is really refreshing coming from a field (neuroscience) that tends to be very cagey and protective of both its data and analyses. It makes me want to encourage these open and collaborative practices in my own field.\n",
    "\n",
    "# 3. It's actually \"cutting edge\"\n",
    "In the sense that people talk about things that they're actively developing *right now*. A number of times people gave presentations where they explained that they literally just built in XXX feature thirty minutes before the talk began. When I go to scientific conferences I get the feeling that people are mostly talking about projects that are nearly complete or already submitted. Having a conference that is more about where the field is going, rather than just showcasing what it's already accomplished, makes for a great experience and focuses on what to do next.\n",
    "\n",
    "# 4. Project Jupyter is going to take over the world\n",
    "What began as a side project (IPython) has clearly evolved into an organization/project that is impressively ambitious and productive. Jupyter unveiled their next iteration, called JupyterLab, that makes their browser-based platform *much* more flexible and extensible. I'm excited to see what the community starts to cook up. Jupyter also made its way into a ton of other presentations and projects. For example, Jupyter has been used to [manage a cluster of nodes](https://www.youtube.com/watch?v=bNq8_nSiQXc&index=11&list=PLYx7XA2nY5Gf37zYZMw6OqGFRPjB1jCy6) for parallel computing, to create [one-button reproducible workflows](https://www.youtube.com/watch?v=Fc2W930NJs8&index=7&list=PLYx7XA2nY5Gf37zYZMw6OqGFRPjB1jCy6), and to [diff and merge](https://www.youtube.com/watch?v=tKAmwC8ay8E&index=12&list=PLYx7XA2nY5Gf37zYZMw6OqGFRPjB1jCy6) notebooks. We also showcased our own use of JupyterHub for [teaching data science to undergraduates at UC Berkeley](https://www.youtube.com/watch?v=4I3ZFbEF7t0&index=25&list=PLYx7XA2nY5Gf37zYZMw6OqGFRPjB1jCy6).\n",
    "\n",
    "\n",
    "# 5. There's a lot of energy and excitement in science\n",
    "At least, when people have an outlet to show it. I heard all kinds of people excited to share their analyses, projects, and findings from their scientific work (as opposed to their software development). It didn't have the obligatory \"I'm doing this for the purpose of networking\" feel that I've gotten from many conferences. Instead, people were looking forward to showing off the cool work that they'd done and get feedback from others.\n",
    "\n",
    "At the end of the day, Scipy is less of a conference and more of a celebration of the principles that guide the open source and open science community. It turns out that when you base a field off of openness, collaboration, iteration, and empowerment, you create a very energetic and exciting culture. I really enjoyed my first go-around with the scipy community, and I'm looking forward to what comes next.\n",
    "\n",
    "# Some quick extras\n",
    "* Scipy still has a [long way to go](https://gist.github.com/jiffyclub/c1c75641b50a9370bb144f5623e177c4) when it comes to gender parity at Scipy. And it felt even worse for racial diversity.\n",
    "* People seem really excited about Dask for parallel computing. Here are [two](https://www.youtube.com/watch?v=PAGjm4BMKlk&index=15&list=PLYx7XA2nY5Gf37zYZMw6OqGFRPjB1jCy6) [talks](https://www.youtube.com/watch?v=jLQ2wAwapRg&index=43&list=PLYx7XA2nY5Gf37zYZMw6OqGFRPjB1jCy6) that got a lot of buzz.\n",
    "* Austin is [really, really hot](https://www.wunderground.com/history/airport/KATT/2016/7/20/MonthlyCalendar.html?req_city=Austin&req_state=TX&reqdb.zip=78701&reqdb.magic=1&reqdb.wmo=99999#calendar) in the summertime. Especially when your AirBnB is a 2 mile walk away."
   ]
  }
 ],
 "metadata": {
  "categoriy": "show-and-tell",
  "date": "2016-11-01",
  "hide_input": false,
  "kernelspec": {
   "display_name": "Python 2",
   "language": "python",
   "name": "python3"
  },
  "language_info": {
   "codemirror_mode": {
    "name": "ipython",
    "version": 2
   },
   "file_extension": ".py",
   "mimetype": "text/x-python",
   "name": "python",
   "nbconvert_exporter": "python",
   "pygments_lexer": "ipython3",
   "version": "2.7.11"
  },
  "redirect": "five-things-I-learned-scipy",
  "tags": "python, open science, programming, conferences",
  "title": "5 things I learned at SciPy"
 },
 "nbformat": 4,
 "nbformat_minor": 0
}
