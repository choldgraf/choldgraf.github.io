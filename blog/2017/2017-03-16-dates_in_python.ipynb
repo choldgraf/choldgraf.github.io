{
 "cells": [
  {
   "cell_type": "markdown",
   "metadata": {
    "deletable": true,
    "editable": true
   },
   "source": [
    "# Dates in python\n",
    "\n",
    "As a part of setting up the website for the [Docathon](http://docathon.org) I've had to re-learn all of my date string formatting rules. It's one of those little problems you don't really think about - turning an arbitrary string into something structured like a date - until you've actually got to do it.\n",
    "\n",
    "There are a bunch of tools in python for using date-like objects, but it's not always easy to figure out how these work. This post is just a couple of pieces of information I've picked up along the process.\n",
    "\n",
    "## Useful links\n",
    "Here's a list of useful links I've picked up, which I'll mention below:\n",
    "\n",
    "* [strftime.org](http://strftime.org/) for remembering how date string formatting works.\n",
    "* [The pandas datetime docs](http://pandas.pydata.org/pandas-docs/stable/timeseries.html)\n",
    "* [A list of time zone names](https://en.wikipedia.org/wiki/List_of_tz_database_time_zones)\n",
    "* [ISO 8601](https://www.w3.org/TR/NOTE-datetime) format explanation\n",
    "\n",
    "# A quick tour of our tools\n",
    "In this post we'll focus on two main tools for date functionality: the datetime module and pandas.\n",
    "\n",
    "## Datetime"
   ]
  },
  {
   "cell_type": "code",
   "execution_count": null,
   "metadata": {
    "collapsed": true,
    "deletable": true,
    "editable": true,
    "jupyter": {
     "outputs_hidden": true
    }
   },
   "outputs": [],
   "source": [
    "import numpy as np\n",
    "from datetime import datetime\n",
    "import pandas as pd\n",
    "%matplotlib inline"
   ]
  },
  {
   "cell_type": "markdown",
   "metadata": {
    "deletable": true,
    "editable": true
   },
   "source": [
    "The datetime module is our core definition of how to represent dates in python. We can call datetime directly with a bunch of integers as input, representing years, months, days, etc:"
   ]
  },
  {
   "cell_type": "code",
   "execution_count": null,
   "metadata": {
    "collapsed": false,
    "deletable": true,
    "editable": true,
    "jupyter": {
     "outputs_hidden": false
    }
   },
   "outputs": [
    {
     "data": {
      "text/plain": [
       "datetime.datetime(2016, 3, 3, 12, 12, 12)"
      ],
      "text_plain": "datetime.datetime(2016, 3, 3, 12, 12, 12)"
     },
     "execution_count": 3,
     "metadata": {},
     "output_type": "execute_result"
    }
   ],
   "source": [
    "date = datetime(2016, 3, 3, 12, 12, 12)\n",
    "date"
   ]
  },
  {
   "cell_type": "markdown",
   "metadata": {
    "deletable": true,
    "editable": true
   },
   "source": [
    "We can access components of this date object as attributes:"
   ]
  },
  {
   "cell_type": "code",
   "execution_count": null,
   "metadata": {
    "collapsed": false,
    "deletable": true,
    "editable": true,
    "jupyter": {
     "outputs_hidden": false
    }
   },
   "outputs": [
    {
     "data": {
      "text/plain": [
       "3"
      ],
      "text_plain": "3"
     },
     "execution_count": 3,
     "metadata": {},
     "output_type": "execute_result"
    }
   ],
   "source": [
    "date.day"
   ]
  },
  {
   "cell_type": "code",
   "execution_count": null,
   "metadata": {},
   "outputs": [
    {
     "name": "stdout",
     "output_type": "stream",
     "text": [
      "\n",
      "---\n",
      "\n",
      "year 2016\n",
      "\n",
      "---\n",
      "\n",
      "month 2\n",
      "\n",
      "---\n",
      "\n",
      "day 12\n"
     ]
    }
   ],
   "source": [
    "attrs = ['year', 'month', 'day']\n",
    "for ii in attrs:\n",
    "    print('\\n---\\n')\n",
    "    print(ii, getattr(date, ii))"
   ]
  },
  {
   "cell_type": "markdown",
   "metadata": {
    "deletable": true,
    "editable": true
   },
   "source": [
    "### Extra components of datetime objects\n",
    "We can also access specific sub-components of the datetime (that is, either the **date** or the **time**)"
   ]
  },
  {
   "cell_type": "code",
   "execution_count": null,
   "metadata": {
    "collapsed": false,
    "deletable": true,
    "editable": true,
    "jupyter": {
     "outputs_hidden": false
    }
   },
   "outputs": [
    {
     "data": {
      "text/plain": [
       "datetime.date(2016, 3, 3)"
      ],
      "text_plain": "datetime.date(2016, 3, 3)"
     },
     "execution_count": 5,
     "metadata": {},
     "output_type": "execute_result"
    }
   ],
   "source": [
    "date.date()"
   ]
  },
  {
   "cell_type": "code",
   "execution_count": null,
   "metadata": {
    "collapsed": false,
    "deletable": true,
    "editable": true,
    "jupyter": {
     "outputs_hidden": false
    }
   },
   "outputs": [
    {
     "data": {
      "text/plain": [
       "datetime.time(12, 12, 12)"
      ],
      "text_plain": "datetime.time(12, 12, 12)"
     },
     "execution_count": 6,
     "metadata": {},
     "output_type": "execute_result"
    }
   ],
   "source": [
    "date.time()"
   ]
  },
  {
   "cell_type": "markdown",
   "metadata": {
    "deletable": true,
    "editable": true
   },
   "source": [
    "Datetime objects also have **timezones**. You can check whether our object already has a timezone with the `tzinfo` attribute:"
   ]
  },
  {
   "cell_type": "code",
   "execution_count": null,
   "metadata": {
    "collapsed": true,
    "deletable": true,
    "editable": true,
    "jupyter": {
     "outputs_hidden": true
    }
   },
   "outputs": [],
   "source": [
    "date.tzinfo"
   ]
  },
  {
   "cell_type": "markdown",
   "metadata": {
    "deletable": true,
    "editable": true
   },
   "source": [
    "As we can see, there's nothing in there because we didn't specify a timezone when we created this object. We need to add a timezone first.\n",
    "\n",
    "However, once you start using timezones it is useful to use a more powerful package like pandas. Let's do a quick intro:\n",
    "\n",
    "## Datetimes in pandas\n",
    "Pandas (among many, many other things) adds some extra functionality on top of datetime. The most useful function for this is probably `to_datetime`. This will try to be clever about whatever the input is, which lets us do things like give it strings:"
   ]
  },
  {
   "cell_type": "code",
   "execution_count": null,
   "metadata": {
    "collapsed": false,
    "deletable": true,
    "editable": true,
    "jupyter": {
     "outputs_hidden": false
    },
    "scrolled": true
   },
   "outputs": [
    {
     "name": "stdout",
     "output_type": "stream",
     "text": [
      "Class:  &ltclass 'pandas.tslib.Timestamp'&gt | 2017-03-01 00:00:00\n"
     ]
    }
   ],
   "source": [
    "date = pd.to_datetime('2017-03-01')\n",
    "print('Class: ', type(date), '|', date)"
   ]
  },
  {
   "cell_type": "markdown",
   "metadata": {
    "deletable": true,
    "editable": true
   },
   "source": [
    "Note that this isn't the same object as the datetime object, but we can usually treat them similarly. It also exposes several new methods that can do useful things, like changing the timezone of our datetime object:"
   ]
  },
  {
   "cell_type": "code",
   "execution_count": null,
   "metadata": {
    "collapsed": false,
    "deletable": true,
    "editable": true,
    "jupyter": {
     "outputs_hidden": false
    }
   },
   "outputs": [
    {
     "data": {
      "text/plain": [
       "Timestamp('2017-03-01 00:00:00+0000', tz='UTC')"
      ],
      "text_plain": "Timestamp('2017-03-01 00:00:00+0000', tz='UTC')"
     },
     "execution_count": 9,
     "metadata": {},
     "output_type": "execute_result"
    }
   ],
   "source": [
    "date = date.tz_localize('UTC')\n",
    "date"
   ]
  },
  {
   "cell_type": "code",
   "execution_count": null,
   "metadata": {
    "collapsed": false,
    "deletable": true,
    "editable": true,
    "jupyter": {
     "outputs_hidden": false
    }
   },
   "outputs": [
    {
     "name": "stdout",
     "output_type": "stream",
     "text": [
      "timezone:  UTC\n"
     ]
    }
   ],
   "source": [
    "print('timezone: ', date.tzinfo)"
   ]
  },
  {
   "cell_type": "markdown",
   "metadata": {
    "deletable": true,
    "editable": true
   },
   "source": [
    "We used a time zone called \"UTC\". That stands for \"Coordinated Universal Time\", which is basically the global standard for the \"base\" time. All other timezones are expressed in reference to this base time. For example, let's now convert our time to PST:"
   ]
  },
  {
   "cell_type": "code",
   "execution_count": null,
   "metadata": {
    "collapsed": false,
    "deletable": true,
    "editable": true,
    "jupyter": {
     "outputs_hidden": false
    }
   },
   "outputs": [
    {
     "data": {
      "text/plain": [
       "Timestamp('2017-02-28 16:00:00-0800', tz='US/Pacific')"
      ],
      "text_plain": "Timestamp('2017-02-28 16:00:00-0800', tz='US/Pacific')"
     },
     "execution_count": 13,
     "metadata": {},
     "output_type": "execute_result"
    }
   ],
   "source": [
    "date = date.tz_convert('US/Pacific')\n",
    "date"
   ]
  },
  {
   "cell_type": "code",
   "execution_count": null,
   "metadata": {
    "collapsed": false,
    "deletable": true,
    "editable": true,
    "jupyter": {
     "outputs_hidden": false
    }
   },
   "outputs": [
    {
     "name": "stdout",
     "output_type": "stream",
     "text": [
      "timezone:  US/Pacific\n"
     ]
    }
   ],
   "source": [
    "print('timezone: ', date.tzinfo)"
   ]
  },
  {
   "cell_type": "markdown",
   "metadata": {},
   "source": [
    "Notice how we now see the `-0800` at the end. This tells us what kind of offset the 'US/Pacific' timezone is from 'UTC'. It's expressed as `-mmss`, where `m = minute` and `s = second`\n",
    "\n",
    "One of the really nice things about pandas is that we can represent **ranges** in python. Let's generate a range of dates below:"
   ]
  },
  {
   "cell_type": "code",
   "execution_count": null,
   "metadata": {
    "collapsed": false,
    "deletable": true,
    "editable": true,
    "jupyter": {
     "outputs_hidden": false
    }
   },
   "outputs": [
    {
     "data": {
      "text/plain": [
       "DatetimeIndex(['2017-03-01 00:00:00+00:00', '2017-03-01 01:00:00+00:00',\n",
       "               '2017-03-01 02:00:00+00:00', '2017-03-01 03:00:00+00:00',\n",
       "               '2017-03-01 04:00:00+00:00'],\n",
       "              dtype='datetime64[ns, UTC]', freq='H')"
      ],
      "text_plain": "DatetimeIndex(['2017-03-01 00:00:00+00:00', '2017-03-01 01:00:00+00:00',\n               '2017-03-01 02:00:00+00:00', '2017-03-01 03:00:00+00:00',\n               '2017-03-01 04:00:00+00:00'],\n              dtype='datetime64[ns, UTC]', freq='H')"
     },
     "execution_count": 15,
     "metadata": {},
     "output_type": "execute_result"
    }
   ],
   "source": [
    "# The `freq` parameter tells us the size of the jump between items\n",
    "freq = 'H'  # H == hours, D == days\n",
    "dates = pd.date_range('2017-03-01', '2017-03-05', freq=freq, tz='UTC')\n",
    "dates[:5]"
   ]
  },
  {
   "cell_type": "markdown",
   "metadata": {
    "deletable": true,
    "editable": true
   },
   "source": [
    "This lets us do several things, such as create masks for any data we have:"
   ]
  },
  {
   "cell_type": "code",
   "execution_count": null,
   "metadata": {
    "collapsed": false,
    "deletable": true,
    "editable": true,
    "jupyter": {
     "outputs_hidden": false
    }
   },
   "outputs": [
    {
     "data": {
      "text/plain": [
       "array([ True,  True,  True,  True,  True,  True,  True,  True,  True,\n",
       "        True,  True,  True,  True,  True,  True,  True,  True,  True,\n",
       "        True,  True,  True,  True,  True,  True, False, False, False,\n",
       "       False, False, False, False, False, False, False, False, False,\n",
       "       False, False, False, False, False, False, False, False, False,\n",
       "       False, False, False, False, False, False, False, False, False,\n",
       "       False, False, False, False, False, False, False, False, False,\n",
       "       False, False, False, False, False, False, False, False, False,\n",
       "       False, False, False, False, False, False, False, False, False,\n",
       "       False, False, False, False, False, False, False, False, False,\n",
       "       False, False, False, False, False, False, False], dtype=bool)"
      ],
      "text_plain": "array([ True,  True,  True,  True,  True,  True,  True,  True,  True,\n        True,  True,  True,  True,  True,  True,  True,  True,  True,\n        True,  True,  True,  True,  True,  True, False, False, False,\n       False, False, False, False, False, False, False, False, False,\n       False, False, False, False, False, False, False, False, False,\n       False, False, False, False, False, False, False, False, False,\n       False, False, False, False, False, False, False, False, False,\n       False, False, False, False, False, False, False, False, False,\n       False, False, False, False, False, False, False, False, False,\n       False, False, False, False, False, False, False, False, False,\n       False, False, False, False, False, False, False], dtype=bool)"
     },
     "execution_count": 16,
     "metadata": {},
     "output_type": "execute_result"
    }
   ],
   "source": [
    "dates < \"2017-03-02\""
   ]
  },
  {
   "cell_type": "markdown",
   "metadata": {},
   "source": [
    "It also lets us plot things across dates:"
   ]
  },
  {
   "cell_type": "code",
   "execution_count": null,
   "metadata": {
    "collapsed": false,
    "jupyter": {
     "outputs_hidden": false
    }
   },
   "outputs": [
    {
     "data": {
      "text_plain": "&ltmatplotlib.axes._subplots.AxesSubplot at 0x1094c3240&gt"
     },
     "execution_count": 17,
     "metadata": {},
     "output_type": "execute_result"
    },
    {
     "data": {
      "image/png": "[encoded data removed]",
      "text_plain": "&ltmatplotlib.figure.Figure at 0x1093d6898&gt"
     },
     "metadata": {},
     "output_type": "display_data"
    }
   ],
   "source": [
    "dates = pd.date_range('2017-01-01', '2017-03-06', freq='H', tz='UTC')\n",
    "sr = pd.Series(np.random.randn(len(dates)), index=dates)\n",
    "sr.rolling(30).mean().plot()  # Give us a 30 hour rolling mean"
   ]
  },
  {
   "cell_type": "markdown",
   "metadata": {
    "deletable": true,
    "editable": true
   },
   "source": [
    "Note that if we now change the timezone, some of the days have changed because of the time shift:"
   ]
  },
  {
   "cell_type": "code",
   "execution_count": null,
   "metadata": {
    "collapsed": false,
    "jupyter": {
     "outputs_hidden": false
    }
   },
   "outputs": [
    {
     "data": {
      "text/plain": [
       "DatetimeIndex(['2017-01-01 00:00:00+00:00', '2017-01-01 01:00:00+00:00',\n",
       "               '2017-01-01 02:00:00+00:00', '2017-01-01 03:00:00+00:00',\n",
       "               '2017-01-01 04:00:00+00:00'],\n",
       "              dtype='datetime64[ns, UTC]', freq='H')"
      ],
      "text_plain": "DatetimeIndex(['2017-01-01 00:00:00+00:00', '2017-01-01 01:00:00+00:00',\n               '2017-01-01 02:00:00+00:00', '2017-01-01 03:00:00+00:00',\n               '2017-01-01 04:00:00+00:00'],\n              dtype='datetime64[ns, UTC]', freq='H')"
     },
     "execution_count": 18,
     "metadata": {},
     "output_type": "execute_result"
    }
   ],
   "source": [
    "# Original times\n",
    "dates[:5]"
   ]
  },
  {
   "cell_type": "code",
   "execution_count": null,
   "metadata": {
    "collapsed": false,
    "deletable": true,
    "editable": true,
    "jupyter": {
     "outputs_hidden": false
    }
   },
   "outputs": [
    {
     "data": {
      "text/plain": [
       "DatetimeIndex(['2016-12-31 16:00:00-08:00', '2016-12-31 17:00:00-08:00',\n",
       "               '2016-12-31 18:00:00-08:00', '2016-12-31 19:00:00-08:00',\n",
       "               '2016-12-31 20:00:00-08:00'],\n",
       "              dtype='datetime64[ns, US/Pacific]', freq='H')"
      ],
      "text_plain": "DatetimeIndex(['2016-12-31 16:00:00-08:00', '2016-12-31 17:00:00-08:00',\n               '2016-12-31 18:00:00-08:00', '2016-12-31 19:00:00-08:00',\n               '2016-12-31 20:00:00-08:00'],\n              dtype='datetime64[ns, US/Pacific]', freq='H')"
     },
     "execution_count": 19,
     "metadata": {},
     "output_type": "execute_result"
    }
   ],
   "source": [
    "# New times\n",
    "dates.tz_convert('US/Pacific')[:5]"
   ]
  },
  {
   "cell_type": "markdown",
   "metadata": {
    "deletable": true,
    "editable": true
   },
   "source": [
    "For more information about date objects in pandas, check out:\n",
    "\n",
    "* [The pandas datetime docs](http://pandas.pydata.org/pandas-docs/stable/timeseries.html)\n",
    "\n",
    "And this is useful for figuring out how to convert between timezones:\n",
    "\n",
    "* [A list of time zone names](https://en.wikipedia.org/wiki/List_of_tz_database_time_zones)"
   ]
  },
  {
   "cell_type": "markdown",
   "metadata": {
    "deletable": true,
    "editable": true
   },
   "source": [
    "# Parsing strings as a date\n",
    "## ISO 8601\n",
    "So how is pandas doing all of these string auto-conversions? Well, there are a few string structures that are classically defined as date-like structures. For example, the `yyyy-mm-dd` string I gave above looks fairly straightforward for a date.\n",
    "\n",
    "What if we wanted to do something more complex with strings? For this, we use the [ISO 8601](https://www.w3.org/TR/NOTE-datetime). It takes the following form:\n",
    "\n",
    "`YYYY-MM-DDThh:mm:ss`.\n",
    "\n",
    "Most of these are pretty self-explanatory, but of note is the `Z` at the end. This simply says that there is zero offset for this datetime, AKA it is \"UTC\" time."
   ]
  },
  {
   "cell_type": "code",
   "execution_count": null,
   "metadata": {
    "collapsed": false,
    "deletable": true,
    "editable": true,
    "jupyter": {
     "outputs_hidden": false
    }
   },
   "outputs": [
    {
     "data": {
      "text/plain": [
       "Timestamp('2017-03-01 12:34:02')"
      ],
      "text_plain": "Timestamp('2017-03-01 12:34:02')"
     },
     "execution_count": 20,
     "metadata": {},
     "output_type": "execute_result"
    }
   ],
   "source": [
    "date = pd.to_datetime('2017-03-01T12:34:02Z')\n",
    "date"
   ]
  },
  {
   "cell_type": "markdown",
   "metadata": {
    "deletable": true,
    "editable": true
   },
   "source": [
    "### Arbitrary strings\n",
    "We can also tell pandas how to parse an arbitrary date string. For this, we use placeholders representing different components of the date, and then construct a \"parsing string\" that we give to the function. This tells the function how to turn input strings into datetime objects. For example, let's say we have this string:"
   ]
  },
  {
   "cell_type": "code",
   "execution_count": null,
   "metadata": {
    "collapsed": true,
    "deletable": true,
    "editable": true,
    "jupyter": {
     "outputs_hidden": true
    }
   },
   "outputs": [],
   "source": [
    "date_string = '02/2016/12'"
   ]
  },
  {
   "cell_type": "markdown",
   "metadata": {
    "deletable": true,
    "editable": true
   },
   "source": [
    "This is a little tricky, because it's unclear which is the month and which is the day. By specifying a date parsing string, we can easily parse this. The placeholders that we use are in the [strftime](http://strftime.org/) website linked above. Here are some useful ones:\n",
    "\n",
    "* `%Y` = year\n",
    "* `%m` = month\n",
    "* `%d` = day"
   ]
  },
  {
   "cell_type": "code",
   "execution_count": null,
   "metadata": {
    "collapsed": false,
    "deletable": true,
    "editable": true,
    "jupyter": {
     "outputs_hidden": false
    }
   },
   "outputs": [
    {
     "data": {
      "text/plain": [
       "Timestamp('2016-02-12 00:00:00')"
      ],
      "text_plain": "Timestamp('2016-02-12 00:00:00')"
     },
     "execution_count": 22,
     "metadata": {},
     "output_type": "execute_result"
    }
   ],
   "source": [
    "date = pd.to_datetime(date_string, format='%m/%Y/%d')\n",
    "date"
   ]
  },
  {
   "cell_type": "markdown",
   "metadata": {
    "deletable": true,
    "editable": true
   },
   "source": [
    "Above we told pandas to parse the date string as `{month}/{year}/{day}`. We can do this with any string structure we like:"
   ]
  },
  {
   "cell_type": "code",
   "execution_count": null,
   "metadata": {},
   "outputs": [
    {
     "data": {
      "text/plain": [
       "Timestamp('2016-02-12 11:04:02')"
      ],
      "text_plain": "Timestamp('2016-02-12 11:04:02')"
     },
     "execution_count": 23,
     "metadata": {},
     "output_type": "execute_result"
    }
   ],
   "source": [
    "# Create a complicated date string\n",
    "date_string = '02/2016/12 and the time is 11 hr 04 min and 02 sec'\n",
    "\n",
    "# And tell `to_datetime` how to parse it\n",
    "date = pd.to_datetime(date_string,\n",
    "                      format='%m/%Y/%d and the time is %H hr %M min and %S sec')\n",
    "date"
   ]
  },
  {
   "cell_type": "markdown",
   "metadata": {
    "deletable": true,
    "editable": true
   },
   "source": [
    "### Printing strings\n",
    "The same principle can be applied to printing strings. Any datetime object has a method called `strftime`. This lets you create a **string** from **time**. You can pass a similar date parsing string to what we used above, and it will tell the object what kind of string to create:"
   ]
  },
  {
   "cell_type": "code",
   "execution_count": null,
   "metadata": {
    "collapsed": false,
    "deletable": true,
    "editable": true,
    "jupyter": {
     "outputs_hidden": false
    }
   },
   "outputs": [
    {
     "data": {
      "text/plain": [
       "'2016/02 and 12 days'"
      ],
      "text_plain": "'2016/02 and 12 days'"
     },
     "execution_count": 24,
     "metadata": {},
     "output_type": "execute_result"
    }
   ],
   "source": [
    "date.strftime('%Y/%m and %d days')"
   ]
  },
  {
   "cell_type": "markdown",
   "metadata": {
    "deletable": true,
    "editable": true
   },
   "source": [
    "You can also use this to do some nice formatting, e.g.:"
   ]
  },
  {
   "cell_type": "code",
   "execution_count": null,
   "metadata": {
    "collapsed": false,
    "deletable": true,
    "editable": true,
    "jupyter": {
     "outputs_hidden": false
    }
   },
   "outputs": [
    {
     "data": {
      "text/plain": [
       "'Friday, February 12, 2016'"
      ],
      "text_plain": "'Friday, February 12, 2016'"
     },
     "execution_count": 25,
     "metadata": {},
     "output_type": "execute_result"
    }
   ],
   "source": [
    "date.strftime('%A, %B %d, %Y')"
   ]
  },
  {
   "cell_type": "markdown",
   "metadata": {
    "deletable": true,
    "editable": true
   },
   "source": [
    "You can also pass these parsing strings to the `format` method of python strings. For example:"
   ]
  },
  {
   "cell_type": "code",
   "execution_count": null,
   "metadata": {
    "collapsed": false,
    "deletable": true,
    "editable": true,
    "jupyter": {
     "outputs_hidden": false
    }
   },
   "outputs": [
    {
     "name": "stdout",
     "output_type": "stream",
     "text": [
      "Today's date is...Friday, February 12, 2016\n"
     ]
    }
   ],
   "source": [
    "mystring = \"Today's date is...{:%A, %B %d, %Y}\"\n",
    "print(mystring.format(date))"
   ]
  },
  {
   "cell_type": "markdown",
   "metadata": {
    "deletable": true,
    "editable": true
   },
   "source": [
    "## And that's it...sort of\n",
    "In reality this is the tip of the iceberg when it comes to using datetime objects, but this should be enough to get you started. Make sure that any time you read in new data, you double check whether it is timezone encoded. If it isn't, then figure out what timezone you can assume (often it is UTC), and encoding it yourself to avoid confusion.\n",
    "\n",
    "Datetime objects are incredibly useful, but can be a little confusing, so I hope this helps clear some things up!"
   ]
  }
 ],
 "metadata": {
  "category": "dates, formatting",
  "date": "2017-03-16",
  "interactive": true,
  "kernelspec": {
   "display_name": "Python 3",
   "language": "python",
   "name": "python3"
  },
  "language_info": {
   "codemirror_mode": {
    "name": "ipython",
    "version": 3
   },
   "file_extension": ".py",
   "mimetype": "text/x-python",
   "name": "python",
   "nbconvert_exporter": "python",
   "pygments_lexer": "ipython3",
   "version": "3.8.0"
  },
  "redirect": "date-time-python",
  "tags": "python, open science"
 },
 "nbformat": 4,
 "nbformat_minor": 4
}
